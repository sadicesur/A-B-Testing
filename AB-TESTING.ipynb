{
 "cells": [
  {
   "cell_type": "markdown",
   "id": "9dd0411f",
   "metadata": {},
   "source": [
    "\n",
    "\n",
    "<img src=\"https://dailyblogging.org/wp-content/uploads/2020/09/a_b_testing.png\" width=1600 height=800 />"
   ]
  },
  {
   "cell_type": "markdown",
   "id": "9663bc6e",
   "metadata": {},
   "source": [
    "# Comparing Conversion Rates of AB Testing and Bidding Methods"
   ]
  },
  {
   "cell_type": "markdown",
   "id": "8c859933",
   "metadata": {},
   "source": [
    "<div style=\"text-align: justify\"> AB testing, also known as split testing, is a statistical method used to compare two or more variations of a web page or app feature to determine which one performs better in terms of user engagement or conversion rate. It involves dividing the audience into different groups and presenting each group with a different variation, then analyzing the results to make data-driven decisions about which variation is more effective. AB testing is widely used in marketing and product development to optimize user experiences and maximize desired outcomes. </div>"
   ]
  },
  {
   "cell_type": "markdown",
   "id": "83ee5fad",
   "metadata": {},
   "source": [
    "### Dataset Information & Objective"
   ]
  },
  {
   "cell_type": "markdown",
   "id": "f404de5a",
   "metadata": {},
   "source": [
    "This dataset contains information about a company's website, including data on the number of ad views, ad clicks, and associated earnings. The dataset is divided into two separate sets: the Control group, where Maximum Bidding was applied, and the Test group, where Average Bidding was implemented. The goal is to compare the performance of the two bidding methods to determine which one yields better results in terms of user engagement and revenue generation.\n",
    "\n",
    "- Impression : The number of times the ads were displayed or viewed by users\n",
    "- Click      : The number of times users clicked on the displayed ads after viewing them\n",
    "- Purchase   : The number of times users made purchases after clicking on the ads\n",
    "- Earning    : The revenue generated from the purchases made "
   ]
  },
  {
   "cell_type": "markdown",
   "id": "b1c4086b",
   "metadata": {},
   "source": [
    "### Imported Libraries"
   ]
  },
  {
   "cell_type": "code",
   "execution_count": 1,
   "id": "6fe0b56a",
   "metadata": {},
   "outputs": [],
   "source": [
    "import numpy as np\n",
    "import pandas as pd\n",
    "import matplotlib.pyplot as plt\n",
    "import seaborn as sns\n",
    "import datetime as dt\n",
    "import os\n",
    "from scipy.stats import ttest_1samp, shapiro, levene, ttest_ind, mannwhitneyu, \\\n",
    "                        pearsonr, spearmanr, kendalltau, f_oneway, kruskal\n",
    "from statsmodels.stats.proportion import proportions_ztest\n",
    "%matplotlib inline\n",
    "\n",
    "pd.set_option('display.max_columns', None)\n",
    "pd.set_option('display.max_rows', 10)\n",
    "pd.set_option('display.float_format', lambda x: '%.5f' % x)"
   ]
  },
  {
   "cell_type": "markdown",
   "id": "19cd81c6",
   "metadata": {},
   "source": [
    "### Defined Functions"
   ]
  },
  {
   "cell_type": "code",
   "execution_count": 2,
   "id": "0625babc",
   "metadata": {},
   "outputs": [],
   "source": [
    "def uniqueInfos(df):\n",
    "    \n",
    "    dictz = {\"FEATURES\": df.columns,\n",
    "             \"N_UNIQUE\": [df[item].nunique() for item in df.columns],\n",
    "             \"N_NULL\": [df[item].isnull().sum() for item in df.columns],\n",
    "             \"ITEMS\": [df[item].unique() for item in df.columns],\n",
    "             \"TYPE\" : [df[item].dtype for item in df.columns]}\n",
    "    \n",
    "    return pd.DataFrame(data = dictz)"
   ]
  },
  {
   "cell_type": "code",
   "execution_count": 3,
   "id": "76656ac6",
   "metadata": {},
   "outputs": [
    {
     "data": {
      "text/plain": [
       "['ab_testing.xlsx']"
      ]
     },
     "execution_count": 3,
     "metadata": {},
     "output_type": "execute_result"
    }
   ],
   "source": [
    "file_list = [file for file in os.listdir(os.getcwd()) if \".xlsx\" in file]\n",
    "file_list"
   ]
  },
  {
   "cell_type": "markdown",
   "id": "2d099360",
   "metadata": {},
   "source": [
    "Let's read  all the data & take a look!"
   ]
  },
  {
   "cell_type": "code",
   "execution_count": 4,
   "id": "df41d944",
   "metadata": {},
   "outputs": [],
   "source": [
    "df_control = pd.read_excel(file_list[0], sheet_name=\"Control Group\")\n",
    "df_test    = pd.read_excel(file_list[0], sheet_name=\"Test Group\")"
   ]
  },
  {
   "cell_type": "markdown",
   "id": "0b6bdc20",
   "metadata": {},
   "source": [
    "Let's merge the two datasets while adding a Group column to dataframe to analyze the data together!"
   ]
  },
  {
   "cell_type": "code",
   "execution_count": 5,
   "id": "f84e6adb",
   "metadata": {},
   "outputs": [],
   "source": [
    "df_control[\"Group\"] = \"Control\"\n",
    "df_test[\"Group\"] = \"Test\"\n",
    "df = pd.concat([df_control, df_test]).reset_index(drop = True)"
   ]
  },
  {
   "cell_type": "code",
   "execution_count": 6,
   "id": "e64b8027",
   "metadata": {},
   "outputs": [
    {
     "data": {
      "text/html": [
       "<div>\n",
       "<style scoped>\n",
       "    .dataframe tbody tr th:only-of-type {\n",
       "        vertical-align: middle;\n",
       "    }\n",
       "\n",
       "    .dataframe tbody tr th {\n",
       "        vertical-align: top;\n",
       "    }\n",
       "\n",
       "    .dataframe thead th {\n",
       "        text-align: right;\n",
       "    }\n",
       "</style>\n",
       "<table border=\"1\" class=\"dataframe\">\n",
       "  <thead>\n",
       "    <tr style=\"text-align: right;\">\n",
       "      <th></th>\n",
       "      <th>FEATURES</th>\n",
       "      <th>N_UNIQUE</th>\n",
       "      <th>N_NULL</th>\n",
       "      <th>ITEMS</th>\n",
       "      <th>TYPE</th>\n",
       "    </tr>\n",
       "  </thead>\n",
       "  <tbody>\n",
       "    <tr>\n",
       "      <th>0</th>\n",
       "      <td>Impression</td>\n",
       "      <td>80</td>\n",
       "      <td>0</td>\n",
       "      <td>[82529.45927124521, 98050.45192639381, 82696.0...</td>\n",
       "      <td>float64</td>\n",
       "    </tr>\n",
       "    <tr>\n",
       "      <th>1</th>\n",
       "      <td>Click</td>\n",
       "      <td>80</td>\n",
       "      <td>0</td>\n",
       "      <td>[6090.077316567174, 3382.861786182413, 4167.96...</td>\n",
       "      <td>float64</td>\n",
       "    </tr>\n",
       "    <tr>\n",
       "      <th>2</th>\n",
       "      <td>Purchase</td>\n",
       "      <td>80</td>\n",
       "      <td>0</td>\n",
       "      <td>[665.2112548893001, 315.0848949727512, 458.083...</td>\n",
       "      <td>float64</td>\n",
       "    </tr>\n",
       "    <tr>\n",
       "      <th>3</th>\n",
       "      <td>Earning</td>\n",
       "      <td>80</td>\n",
       "      <td>0</td>\n",
       "      <td>[2311.277142626756, 1742.806855469844, 1797.82...</td>\n",
       "      <td>float64</td>\n",
       "    </tr>\n",
       "    <tr>\n",
       "      <th>4</th>\n",
       "      <td>Group</td>\n",
       "      <td>2</td>\n",
       "      <td>0</td>\n",
       "      <td>[Control, Test]</td>\n",
       "      <td>object</td>\n",
       "    </tr>\n",
       "  </tbody>\n",
       "</table>\n",
       "</div>"
      ],
      "text/plain": [
       "     FEATURES  N_UNIQUE  N_NULL  \\\n",
       "0  Impression        80       0   \n",
       "1       Click        80       0   \n",
       "2    Purchase        80       0   \n",
       "3     Earning        80       0   \n",
       "4       Group         2       0   \n",
       "\n",
       "                                               ITEMS     TYPE  \n",
       "0  [82529.45927124521, 98050.45192639381, 82696.0...  float64  \n",
       "1  [6090.077316567174, 3382.861786182413, 4167.96...  float64  \n",
       "2  [665.2112548893001, 315.0848949727512, 458.083...  float64  \n",
       "3  [2311.277142626756, 1742.806855469844, 1797.82...  float64  \n",
       "4                                    [Control, Test]   object  "
      ]
     },
     "execution_count": 6,
     "metadata": {},
     "output_type": "execute_result"
    }
   ],
   "source": [
    "uniqueInfos(df)"
   ]
  },
  {
   "cell_type": "code",
   "execution_count": 7,
   "id": "ae763bdf",
   "metadata": {},
   "outputs": [
    {
     "data": {
      "text/html": [
       "<div>\n",
       "<style scoped>\n",
       "    .dataframe tbody tr th:only-of-type {\n",
       "        vertical-align: middle;\n",
       "    }\n",
       "\n",
       "    .dataframe tbody tr th {\n",
       "        vertical-align: top;\n",
       "    }\n",
       "\n",
       "    .dataframe thead th {\n",
       "        text-align: right;\n",
       "    }\n",
       "</style>\n",
       "<table border=\"1\" class=\"dataframe\">\n",
       "  <thead>\n",
       "    <tr style=\"text-align: right;\">\n",
       "      <th></th>\n",
       "      <th>Impression</th>\n",
       "      <th>Click</th>\n",
       "      <th>Purchase</th>\n",
       "      <th>Earning</th>\n",
       "      <th>Group</th>\n",
       "    </tr>\n",
       "  </thead>\n",
       "  <tbody>\n",
       "    <tr>\n",
       "      <th>0</th>\n",
       "      <td>82529.45927</td>\n",
       "      <td>6090.07732</td>\n",
       "      <td>665.21125</td>\n",
       "      <td>2311.27714</td>\n",
       "      <td>Control</td>\n",
       "    </tr>\n",
       "    <tr>\n",
       "      <th>1</th>\n",
       "      <td>98050.45193</td>\n",
       "      <td>3382.86179</td>\n",
       "      <td>315.08489</td>\n",
       "      <td>1742.80686</td>\n",
       "      <td>Control</td>\n",
       "    </tr>\n",
       "    <tr>\n",
       "      <th>2</th>\n",
       "      <td>82696.02355</td>\n",
       "      <td>4167.96575</td>\n",
       "      <td>458.08374</td>\n",
       "      <td>1797.82745</td>\n",
       "      <td>Control</td>\n",
       "    </tr>\n",
       "    <tr>\n",
       "      <th>3</th>\n",
       "      <td>109914.40040</td>\n",
       "      <td>4910.88224</td>\n",
       "      <td>487.09077</td>\n",
       "      <td>1696.22918</td>\n",
       "      <td>Control</td>\n",
       "    </tr>\n",
       "    <tr>\n",
       "      <th>4</th>\n",
       "      <td>108457.76263</td>\n",
       "      <td>5987.65581</td>\n",
       "      <td>441.03405</td>\n",
       "      <td>1543.72018</td>\n",
       "      <td>Control</td>\n",
       "    </tr>\n",
       "  </tbody>\n",
       "</table>\n",
       "</div>"
      ],
      "text/plain": [
       "    Impression      Click  Purchase    Earning    Group\n",
       "0  82529.45927 6090.07732 665.21125 2311.27714  Control\n",
       "1  98050.45193 3382.86179 315.08489 1742.80686  Control\n",
       "2  82696.02355 4167.96575 458.08374 1797.82745  Control\n",
       "3 109914.40040 4910.88224 487.09077 1696.22918  Control\n",
       "4 108457.76263 5987.65581 441.03405 1543.72018  Control"
      ]
     },
     "execution_count": 7,
     "metadata": {},
     "output_type": "execute_result"
    }
   ],
   "source": [
    "df.head()"
   ]
  },
  {
   "cell_type": "code",
   "execution_count": 8,
   "id": "c4ffe9c0",
   "metadata": {},
   "outputs": [
    {
     "data": {
      "image/png": "[encoded data removed]",
      "text/plain": [
       "<Figure size 864x864 with 4 Axes>"
      ]
     },
     "metadata": {
      "needs_background": "light"
     },
     "output_type": "display_data"
    }
   ],
   "source": [
    "fig, axes = plt.subplots(2, 2, figsize = (12, 12))\n",
    "w = 0\n",
    "for i in range(2):\n",
    "    for j in range(2):\n",
    "            sns.histplot(data = df, \n",
    "                 x = df.columns[w], \n",
    "                 hue = \"Group\", \n",
    "                 alpha = 0.5, \n",
    "                 kde = True,\n",
    "                 ax = axes [i, j],\n",
    "                 palette = \"viridis\")\n",
    "            axes[i, j].grid(True)\n",
    "            w = w+1"
   ]
  },
  {
   "cell_type": "markdown",
   "id": "ad7b2921",
   "metadata": {},
   "source": [
    "It looks like Purchase distributions are quite close to normal both bidding strategies. To be exactly sure whether it makes a difference or not, one must apply A/B testing!"
   ]
  },
  {
   "cell_type": "markdown",
   "id": "93eb27b8",
   "metadata": {},
   "source": [
    "### AB Testing"
   ]
  },
  {
   "cell_type": "markdown",
   "id": "24efa47a",
   "metadata": {},
   "source": [
    "First step of AB testing is to form an hypothesis. The hypothesis for the AB testing comparing the Maximum Bidding (Control) and Average Bidding (Test) techniques on the Purchase column can be stated as follows:\n"
   ]
  },
  {
   "cell_type": "markdown",
   "id": "1b0ac496",
   "metadata": {},
   "source": [
    "Null Hypothesis (H0): There is no significant difference in the average number of purchases between the Control (Maximum Bidding) and Test (Average Bidding) groups.\n",
    "\n",
    "Alternative Hypothesis (H1): There is a significant difference in the average number of purchases between the Control (Maximum Bidding) and Test (Average Bidding) groups."
   ]
  },
  {
   "cell_type": "markdown",
   "id": "72496ee4",
   "metadata": {},
   "source": [
    "\n",
    "In other words:\n",
    "\n",
    "H0: μ_control = μ_test\n",
    "\n",
    "H1: μ_control ≠ μ_test\n",
    "\n",
    "Where:\n",
    "\n",
    "μ_control is the population mean of purchases for the Control group (Maximum Bidding).\n",
    "μ_test is the population mean of purchases for the Test group (Average Bidding).\n",
    "The null hypothesis assumes that there is no real difference in the purchase rates between the two bidding techniques, while the alternative hypothesis suggests that there is a significant difference in purchase rates between the two bidding techniques. \n",
    "Before conducting the AB testing, it is essential to check the assumptions to ensure the validity of the test results. The two main assumptions to verify are:"
   ]
  },
  {
   "cell_type": "markdown",
   "id": "5edda528",
   "metadata": {},
   "source": [
    "#### 1. Normality Check:"
   ]
  },
  {
   "cell_type": "markdown",
   "id": "79ce8fd3",
   "metadata": {},
   "source": [
    "The data in each group should be approximately normally distributed. We can use the Shapiro-Wilk test for normality."
   ]
  },
  {
   "cell_type": "code",
   "execution_count": 9,
   "id": "83d55364",
   "metadata": {},
   "outputs": [
    {
     "name": "stdout",
     "output_type": "stream",
     "text": [
      "Shapiro-Wilk Test - Control Group: p = 0.5891178250312805\n",
      "Shapiro-Wilk Test - Test Group:    p = 0.1541350930929184\n"
     ]
    }
   ],
   "source": [
    "control_group = df[df['Group'] == 'Control']['Purchase']\n",
    "test_group = df[df['Group'] == 'Test']['Purchase']\n",
    "\n",
    "# Shapiro-Wilk test for normality\n",
    "_, p_value_control = shapiro(control_group)\n",
    "_, p_value_test = shapiro(test_group)\n",
    "\n",
    "# Print p-values\n",
    "print(\"Shapiro-Wilk Test - Control Group: p =\", p_value_control)\n",
    "print(\"Shapiro-Wilk Test - Test Group:    p =\", p_value_test)\n"
   ]
  },
  {
   "cell_type": "markdown",
   "id": "51c33312",
   "metadata": {},
   "source": [
    "p-values for both of the groups are above the value of 0.05 (p > 0.05). Hence the Normality checks out! \n",
    "\n",
    "Null hypothesis CAN'T be rejected !"
   ]
  },
  {
   "cell_type": "markdown",
   "id": "ed265f43",
   "metadata": {},
   "source": [
    "#### 2. Homogeneity of Variance: "
   ]
  },
  {
   "cell_type": "markdown",
   "id": "fe956bac",
   "metadata": {},
   "source": [
    "The variances of the data in the two groups should be approximately equal. We can use the Levene's test for homogeneity of variance."
   ]
  },
  {
   "cell_type": "code",
   "execution_count": 10,
   "id": "a6d6bcd6",
   "metadata": {},
   "outputs": [
    {
     "name": "stdout",
     "output_type": "stream",
     "text": [
      "Levene's Test - p = 0.10828588271874791\n"
     ]
    }
   ],
   "source": [
    "_, p_value_levene = levene(control_group, test_group)\n",
    "\n",
    "# Print p-value\n",
    "print(\"Levene's Test - p =\", p_value_levene)"
   ]
  },
  {
   "cell_type": "markdown",
   "id": "717e591d",
   "metadata": {},
   "source": [
    "Levene's test yielded a p-value of 0.1, which is greater than the typical significance level of 0.05, it indicates that there is no significant difference in variances between the two groups. In this case, we can proceed with the standard independent two-sample t-test, assuming equal variances."
   ]
  },
  {
   "cell_type": "markdown",
   "id": "db1c0850",
   "metadata": {},
   "source": [
    "#### 3. T-Test: "
   ]
  },
  {
   "cell_type": "code",
   "execution_count": 11,
   "id": "77b7a519",
   "metadata": {},
   "outputs": [
    {
     "name": "stdout",
     "output_type": "stream",
     "text": [
      "ttest p-value :  0.34932579202108416\n",
      "There is no significant difference between Maximum Bidding and Average Bidding on the Purchase column.\n"
     ]
    }
   ],
   "source": [
    "# Perform the independent two-sample t-test assuming equal variances\n",
    "t_stat, p_value = ttest_ind(control_group, test_group, equal_var=True)\n",
    "\n",
    "print(\"ttest p-value : \", p_value)\n",
    "\n",
    "# Check for statistical significance\n",
    "if p_value < 0.05:\n",
    "    print(\"There is a significant difference between Maximum Bidding and Average Bidding on the Purchase column.\")\n",
    "else:\n",
    "    print(\"There is no significant difference between Maximum Bidding and Average Bidding on the Purchase column.\")"
   ]
  },
  {
   "cell_type": "markdown",
   "id": "33c1bae0",
   "metadata": {},
   "source": [
    "### Conclusion"
   ]
  },
  {
   "cell_type": "markdown",
   "id": "e325fd7c",
   "metadata": {},
   "source": [
    "<div style=\"text-align: justify\">In this analysis, we compared the Maximum Bidding and Average Bidding methods on the Purchase column using an independent two-sample t-test, which showed no significant difference between the two techniques. To optimize overall campaign success, we recommend diversifying bidding strategies, exploring other key performance indicators, and continuously A/B testing to adapt to changing market dynamics and platform algorithms. </div>"
   ]
  }
 ],
 "metadata": {
  "kernelspec": {
   "display_name": "Python 3 (ipykernel)",
   "language": "python",
   "name": "python3"
  },
  "language_info": {
   "codemirror_mode": {
    "name": "ipython",
    "version": 3
   },
   "file_extension": ".py",
   "mimetype": "text/x-python",
   "name": "python",
   "nbconvert_exporter": "python",
   "pygments_lexer": "ipython3",
   "version": "3.10.9"
  }
 },
 "nbformat": 4,
 "nbformat_minor": 5
}
